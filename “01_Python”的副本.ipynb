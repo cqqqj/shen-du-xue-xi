{
  "nbformat": 4,
  "nbformat_minor": 0,
  "metadata": {
    "colab": {
      "provenance": [],
      "toc_visible": true,
      "include_colab_link": true
    },
    "kernelspec": {
      "name": "python3",
      "display_name": "Python 3"
    }
  },
  "cells": [
    {
      "cell_type": "markdown",
      "metadata": {
        "id": "view-in-github",
        "colab_type": "text"
      },
      "source": [
        "<a href=\"https://colab.research.google.com/github/cqqqj/shen-du-xue-xi/blob/main/%E2%80%9C01_Python%E2%80%9D%E7%9A%84%E5%89%AF%E6%9C%AC.ipynb\" target=\"_parent\"><img src=\"https://colab.research.google.com/assets/colab-badge.svg\" alt=\"Open In Colab\"/></a>"
      ]
    },
    {
      "metadata": {
        "id": "bOChJSNXtC9g"
      },
      "cell_type": "markdown",
      "source": [
        "# Python简介"
      ]
    },
    {
      "metadata": {
        "id": "OLIxEDq6VhvZ"
      },
      "cell_type": "markdown",
      "source": [
        "<img src=\"https://raw.githubusercontent.com/LisonEvf/practicalAI-cn/master/images/logo.png\" width=150>\n",
        "\n",
        "在本节中，我们将学习Python编程语言的基础知识（版本3）。我们不会学习Python的所有知识点，但足以做一些基础的机器学习。\n",
        "\n",
        "<img src=\"https://raw.githubusercontent.com/LisonEvf/practicalAI-cn/master/images/python.png\" width=350>\n",
        "\n",
        "\n"
      ]
    },
    {
      "metadata": {
        "id": "VoMq0eFRvugb"
      },
      "cell_type": "markdown",
      "source": [
        "#  变量"
      ]
    },
    {
      "metadata": {
        "id": "qWro5T5qTJJL"
      },
      "cell_type": "markdown",
      "source": [
        "变量（variables）是python中的对象，可以存储数值或字符串。我们来看看如何创建一些变量。"
      ]
    },
    {
      "metadata": {
        "id": "0-dXQiLlTIgz",
        "outputId": "3e9562e2-ccc1-4cab-d778-1bb14f95262c",
        "colab": {
          "base_uri": "https://localhost:8080/"
        }
      },
      "cell_type": "code",
      "source": [
        "# 数值示例\n",
        "x = 5\n",
        "print (x)"
      ],
      "execution_count": null,
      "outputs": [
        {
          "output_type": "stream",
          "name": "stdout",
          "text": [
            "5\n"
          ]
        }
      ]
    },
    {
      "metadata": {
        "id": "5Ym0owFxTkjo",
        "outputId": "ad534ef3-ff7b-4815-bbda-af5ef24dcbae",
        "colab": {
          "base_uri": "https://localhost:8080/"
        }
      },
      "cell_type": "code",
      "source": [
        "# 字符串示例\n",
        "x = \"hello\"\n",
        "print (x)"
      ],
      "execution_count": null,
      "outputs": [
        {
          "output_type": "stream",
          "name": "stdout",
          "text": [
            "hello\n"
          ]
        }
      ]
    },
    {
      "metadata": {
        "id": "1a4ZhMV1T1-0",
        "outputId": "f089ba0e-ec2a-43b5-ab75-ac6b8d8f0f17",
        "colab": {
          "base_uri": "https://localhost:8080/",
          "height": 34
        }
      },
      "cell_type": "code",
      "source": [
        "# 变量可以相互使用\n",
        "a = 1\n",
        "b = 2\n",
        "c = a + b\n",
        "print (c)"
      ],
      "execution_count": null,
      "outputs": [
        {
          "output_type": "stream",
          "text": [
            "3\n"
          ],
          "name": "stdout"
        }
      ]
    },
    {
      "metadata": {
        "id": "nbKV4aTdUC1_"
      },
      "cell_type": "markdown",
      "source": [
        "变量可以有很多不同的类型。 即使在数值变量中，也可以使用整数（int），浮点数（float）等。所有基于字符串的变量都是string（str）类型。我们可以通过打印它的类型来查看变量的类型。"
      ]
    },
    {
      "metadata": {
        "id": "c3NJmfO4Uc6V",
        "outputId": "0ca2821e-0a17-46f2-d380-e6b0ba6549dd",
        "colab": {
          "base_uri": "https://localhost:8080/",
          "height": 152
        }
      },
      "cell_type": "code",
      "source": [
        "# int 变量\n",
        "x = 5\n",
        "print (x)\n",
        "print (type(x))\n",
        "\n",
        "# float 变量\n",
        "x = 5.0\n",
        "print (x)\n",
        "print (type(x))\n",
        "\n",
        "# text 变量（即为str）\n",
        "x = \"5\"\n",
        "print (x)\n",
        "print (type(x))\n",
        "\n",
        "# boolean 变量\n",
        "x = True\n",
        "print (x)\n",
        "print (type(x))"
      ],
      "execution_count": null,
      "outputs": [
        {
          "output_type": "stream",
          "text": [
            "5\n",
            "<class 'int'>\n",
            "5.0\n",
            "<class 'float'>\n",
            "5\n",
            "<class 'str'>\n",
            "True\n",
            "<class 'bool'>\n"
          ],
          "name": "stdout"
        }
      ]
    },
    {
      "metadata": {
        "id": "6HPtavfdU8Ut"
      },
      "cell_type": "markdown",
      "source": [
        "知道变量的类型是一种很好的做法。当你想在那时使用数值运算时，它们需要类型兼容。"
      ]
    },
    {
      "metadata": {
        "id": "8pr1-i7IVD-h",
        "outputId": "d7807ee0-d227-4591-af5e-2668ffe1b2b2",
        "colab": {
          "base_uri": "https://localhost:8080/",
          "height": 51
        }
      },
      "cell_type": "code",
      "source": [
        "# int 变量\n",
        "a = 5\n",
        "b = 3\n",
        "print (a + b)\n",
        "\n",
        "# string 变量\n",
        "a = \"5\"\n",
        "b = \"3\"\n",
        "print (a + b)"
      ],
      "execution_count": null,
      "outputs": [
        {
          "output_type": "stream",
          "text": [
            "8\n",
            "53\n"
          ],
          "name": "stdout"
        }
      ]
    },
    {
      "metadata": {
        "id": "q4R_UF6PVw4V"
      },
      "cell_type": "markdown",
      "source": [
        "#  列表"
      ]
    },
    {
      "metadata": {
        "id": "LvGsQBj4VjMl"
      },
      "cell_type": "markdown",
      "source": [
        "列表（lists）是python中的对象，可以包含有序的数字序列**和**字符串。"
      ]
    },
    {
      "metadata": {
        "id": "9iPESkq9VvlX",
        "outputId": "eeca7082-11db-48e4-d640-fa8b559698aa",
        "colab": {
          "base_uri": "https://localhost:8080/"
        }
      },
      "cell_type": "code",
      "source": [
        "# 创建列表\n",
        "list_x = [3, \"hello\", 1]\n",
        "print (list_x)"
      ],
      "execution_count": 1,
      "outputs": [
        {
          "output_type": "stream",
          "name": "stdout",
          "text": [
            "[3, 'hello', 1]\n"
          ]
        }
      ]
    },
    {
      "cell_type": "code",
      "source": [],
      "metadata": {
        "id": "mxYLNBmcTnj7"
      },
      "execution_count": null,
      "outputs": []
    },
    {
      "metadata": {
        "id": "0xC6WvuwbGDg"
      },
      "cell_type": "markdown",
      "source": []
    },
    {
      "metadata": {
        "id": "7lbajc-zV515",
        "outputId": "8c07ff17-cea6-4f35-f97d-2523c8e1602a",
        "colab": {
          "base_uri": "https://localhost:8080/"
        }
      },
      "cell_type": "code",
      "source": [
        "# 向列表中添加元素\n",
        "list_x.append(7)\n",
        "print (list_x)"
      ],
      "execution_count": 2,
      "outputs": [
        {
          "output_type": "stream",
          "name": "stdout",
          "text": [
            "[3, 'hello', 1, 7]\n"
          ]
        }
      ]
    },
    {
      "metadata": {
        "id": "W0xpIryJWCN9",
        "outputId": "8857b4b7-c692-4f64-a765-55216b325ec6",
        "colab": {
          "base_uri": "https://localhost:8080/"
        }
      },
      "cell_type": "code",
      "source": [
        "# 访问列表中特定位置的元素\n",
        "print (\"list_x[0]: \", list_x[0])\n",
        "print (\"list_x[1]: \", list_x[1])\n",
        "print (\"list_x[2]: \", list_x[2])\n",
        "print (\"list_x[-1]: \", list_x[-1]) # 索引值为-1时，表示访问最后的元素\n",
        "print (\"list_x[-2]: \", list_x[-2]) # 索引值为-2时，表示访问倒数第二个元素"
      ],
      "execution_count": 3,
      "outputs": [
        {
          "output_type": "stream",
          "name": "stdout",
          "text": [
            "list_x[0]:  3\n",
            "list_x[1]:  hello\n",
            "list_x[2]:  1\n",
            "list_x[-1]:  7\n",
            "list_x[-2]:  1\n"
          ]
        }
      ]
    },
    {
      "metadata": {
        "id": "VSu_HNrnc1WK",
        "outputId": "1288ef09-d10a-4519-9c88-a575090aa426",
        "colab": {
          "base_uri": "https://localhost:8080/"
        }
      },
      "cell_type": "code",
      "source": [
        "# 切片\n",
        "print (\"list_x[:]: \", list_x[:])\n",
        "print (\"list_x[2:]: \", list_x[2:])\n",
        "print (\"list_x[1:3]: \", list_x[1:3])\n",
        "print (\"list_x[:-1]: \", list_x[:-1])"
      ],
      "execution_count": 4,
      "outputs": [
        {
          "output_type": "stream",
          "name": "stdout",
          "text": [
            "list_x[:]:  [3, 'hello', 1, 7]\n",
            "list_x[2:]:  [1, 7]\n",
            "list_x[1:3]:  ['hello', 1]\n",
            "list_x[:-1]:  [3, 'hello', 1]\n"
          ]
        }
      ]
    },
    {
      "metadata": {
        "id": "dImY-hVzWxB4",
        "outputId": "5a6a6a04-2564-4bbe-a053-32ee4b43aa03",
        "colab": {
          "base_uri": "https://localhost:8080/"
        }
      },
      "cell_type": "code",
      "source": [
        "# 列表的长度\n",
        "len(list_x)"
      ],
      "execution_count": 5,
      "outputs": [
        {
          "output_type": "execute_result",
          "data": {
            "text/plain": [
              "4"
            ]
          },
          "metadata": {},
          "execution_count": 5
        }
      ]
    },
    {
      "metadata": {
        "id": "3-reXDniW_sm",
        "outputId": "8267d14c-cee2-44f1-d166-42bff7d3f209",
        "colab": {
          "base_uri": "https://localhost:8080/"
        }
      },
      "cell_type": "code",
      "source": [
        "# 替换列表中的元素\n",
        "list_x[1] = \"hi\"\n",
        "print (list_x)"
      ],
      "execution_count": 6,
      "outputs": [
        {
          "output_type": "stream",
          "name": "stdout",
          "text": [
            "[3, 'hi', 1, 7]\n"
          ]
        }
      ]
    },
    {
      "metadata": {
        "id": "X8T5I3bjXJ0S",
        "outputId": "18a87eca-a2fd-456e-e647-cbe5f6d054ff",
        "colab": {
          "base_uri": "https://localhost:8080/"
        }
      },
      "cell_type": "code",
      "source": [
        "# 组合列表\n",
        "list_y = [2.4, \"world\"]\n",
        "list_z = list_x + list_y\n",
        "print (list_z)"
      ],
      "execution_count": 7,
      "outputs": [
        {
          "output_type": "stream",
          "name": "stdout",
          "text": [
            "[3, 'hi', 1, 7, 2.4, 'world']\n"
          ]
        }
      ]
    },
    {
      "metadata": {
        "id": "ddpIO6LLVzh0"
      },
      "cell_type": "markdown",
      "source": [
        "# 元组"
      ]
    },
    {
      "metadata": {
        "id": "CAZblq7oXY3s"
      },
      "cell_type": "markdown",
      "source": [
        "元组（tuples）也是python中可以保存数据但是不能替换值的对象（因此，元组称为不可变，而列表称为可变）。"
      ]
    },
    {
      "metadata": {
        "id": "G95lu8xWXY90",
        "outputId": "239b1e7d-9dc5-466c-f5a0-cbc6cf9df3fb",
        "colab": {
          "base_uri": "https://localhost:8080/"
        }
      },
      "cell_type": "code",
      "source": [
        "# 创建元组\n",
        "tuple_x = (3.0, \"hello\")\n",
        "print (tuple_x)"
      ],
      "execution_count": 9,
      "outputs": [
        {
          "output_type": "stream",
          "name": "stdout",
          "text": [
            "(3.0, 'hello')\n"
          ]
        }
      ]
    },
    {
      "metadata": {
        "id": "kq23Bej1acAP",
        "outputId": "c152cc50-5cb1-4aa0-a6c3-022f52b98133",
        "colab": {
          "base_uri": "https://localhost:8080/"
        }
      },
      "cell_type": "code",
      "source": [
        "# 添加元素到元组\n",
        "tuple_x = tuple_x + (5.6,)\n",
        "print (tuple_x)"
      ],
      "execution_count": 10,
      "outputs": [
        {
          "output_type": "stream",
          "name": "stdout",
          "text": [
            "(3.0, 'hello', 5.6)\n"
          ]
        }
      ]
    },
    {
      "metadata": {
        "id": "vyTmOc6BXkge",
        "outputId": "9402de3f-19fa-46f9-dcdc-6abdf8cc3dbf",
        "colab": {
          "base_uri": "https://localhost:8080/",
          "height": 158
        }
      },
      "cell_type": "code",
      "source": [
        "# 试图改变元组的值（事实上不可行）\n",
        "tuple_x[1] = \"world\""
      ],
      "execution_count": 11,
      "outputs": [
        {
          "output_type": "error",
          "ename": "TypeError",
          "evalue": "'tuple' object does not support item assignment",
          "traceback": [
            "\u001b[0;31m---------------------------------------------------------------------------\u001b[0m",
            "\u001b[0;31mTypeError\u001b[0m                                 Traceback (most recent call last)",
            "\u001b[0;32m<ipython-input-11-8b0288f3cd15>\u001b[0m in \u001b[0;36m<cell line: 0>\u001b[0;34m()\u001b[0m\n\u001b[1;32m      1\u001b[0m \u001b[0;31m# 试图改变元组的值（事实上不可行）\u001b[0m\u001b[0;34m\u001b[0m\u001b[0;34m\u001b[0m\u001b[0m\n\u001b[0;32m----> 2\u001b[0;31m \u001b[0mtuple_x\u001b[0m\u001b[0;34m[\u001b[0m\u001b[0;36m1\u001b[0m\u001b[0;34m]\u001b[0m \u001b[0;34m=\u001b[0m \u001b[0;34m\"world\"\u001b[0m\u001b[0;34m\u001b[0m\u001b[0;34m\u001b[0m\u001b[0m\n\u001b[0m",
            "\u001b[0;31mTypeError\u001b[0m: 'tuple' object does not support item assignment"
          ]
        }
      ]
    },
    {
      "metadata": {
        "id": "UdlJHkwZV3Mz"
      },
      "cell_type": "markdown",
      "source": [
        "# 字典"
      ]
    },
    {
      "metadata": {
        "id": "azp3AoxYXS26"
      },
      "cell_type": "markdown",
      "source": [
        "字典（dictionaries） 是包含键值对（key-value）的python对象。在下面的字典示例中，键是“name”和“eye_color”变量。它们各自都有与之相关的值。 字典不能有两个相同的键。"
      ]
    },
    {
      "metadata": {
        "id": "pXhNLbzpXXSk",
        "outputId": "620a76ec-3e19-4250-e4ca-cb77fbd5ff51",
        "colab": {
          "base_uri": "https://localhost:8080/"
        }
      },
      "cell_type": "code",
      "source": [
        "# 创建字典\n",
        "goku = {\"name\": \"Goku\",\n",
        "        \"eye_color\": \"brown\"}\n",
        "print (goku)\n",
        "print (goku[\"name\"])\n",
        "print (goku[\"eye_color\"])\n"
      ],
      "execution_count": 13,
      "outputs": [
        {
          "output_type": "stream",
          "name": "stdout",
          "text": [
            "{'name': 'Goku', 'eye_color': 'brown'}\n",
            "Goku\n",
            "brown\n"
          ]
        }
      ]
    },
    {
      "metadata": {
        "id": "1HXtX8vQYjXa",
        "outputId": "69905bbe-5b12-4bc6-a6d8-c8a1898bb108",
        "colab": {
          "base_uri": "https://localhost:8080/"
        }
      },
      "cell_type": "code",
      "source": [
        "# 改变键的值\n",
        "goku[\"eye_color\"] = \"green\"\n",
        "print (goku)"
      ],
      "execution_count": 14,
      "outputs": [
        {
          "output_type": "stream",
          "name": "stdout",
          "text": [
            "{'name': 'Goku', 'eye_color': 'green'}\n"
          ]
        }
      ]
    },
    {
      "metadata": {
        "id": "qn33iB0MY5dT",
        "outputId": "9a77fb32-2e91-48d3-91a7-588da9c0326a",
        "colab": {
          "base_uri": "https://localhost:8080/"
        }
      },
      "cell_type": "code",
      "source": [
        "# 添加新的键值对\n",
        "goku[\"age\"] = 24\n",
        "print (goku)"
      ],
      "execution_count": 15,
      "outputs": [
        {
          "output_type": "stream",
          "name": "stdout",
          "text": [
            "{'name': 'Goku', 'eye_color': 'green', 'age': 24}\n"
          ]
        }
      ]
    },
    {
      "metadata": {
        "id": "g9EYmzMKa9YV",
        "outputId": "0b6af8a9-408e-4fde-86af-c470ba474916",
        "colab": {
          "base_uri": "https://localhost:8080/"
        }
      },
      "cell_type": "code",
      "source": [
        "# 字典的长度\n",
        "print (len(goku))"
      ],
      "execution_count": 16,
      "outputs": [
        {
          "output_type": "stream",
          "name": "stdout",
          "text": [
            "3\n"
          ]
        }
      ]
    },
    {
      "metadata": {
        "id": "B-DInx_Xo2vJ"
      },
      "cell_type": "markdown",
      "source": [
        "# If 语句"
      ]
    },
    {
      "metadata": {
        "id": "ZG_ICGRGo4tY"
      },
      "cell_type": "markdown",
      "source": [
        "您可以使用if语句有条件地执行某些操作。"
      ]
    },
    {
      "metadata": {
        "id": "uob9lQuKo4Pg",
        "outputId": "5f0c76fe-dec8-4c16-dbc0-30095fd4c72f",
        "colab": {
          "base_uri": "https://localhost:8080/"
        }
      },
      "cell_type": "code",
      "source": [
        "# If 语句\n",
        "x = 4\n",
        "if x < 1:\n",
        "    score = \"low\"\n",
        "elif x <= 4:\n",
        "    score = \"medium\"\n",
        "else:\n",
        "    score = \"high\"\n",
        "print (score)"
      ],
      "execution_count": 17,
      "outputs": [
        {
          "output_type": "stream",
          "name": "stdout",
          "text": [
            "medium\n"
          ]
        }
      ]
    },
    {
      "metadata": {
        "id": "vwsQaZqIpfJ3",
        "outputId": "38ff2db6-f2cc-4714-e894-da31d89ff7cb",
        "colab": {
          "base_uri": "https://localhost:8080/"
        }
      },
      "cell_type": "code",
      "source": [
        "# 带有布尔值的if语句\n",
        "x = True\n",
        "if x:\n",
        "    print (\"it worked\")"
      ],
      "execution_count": 18,
      "outputs": [
        {
          "output_type": "stream",
          "name": "stdout",
          "text": [
            "it worked\n"
          ]
        }
      ]
    },
    {
      "metadata": {
        "id": "sJ7NPGEKV6Ik"
      },
      "cell_type": "markdown",
      "source": [
        "# 循环语句"
      ]
    },
    {
      "cell_type": "markdown",
      "source": [
        "# 新段落"
      ],
      "metadata": {
        "id": "XyRz6D9rApOp"
      }
    },
    {
      "metadata": {
        "id": "YRVxhVCkn0vc"
      },
      "cell_type": "markdown",
      "source": [
        "您可以在python中使用for或while循环来重复执行某些操作，直到满足条件为止。"
      ]
    },
    {
      "metadata": {
        "id": "OB5PtyqAn8mj",
        "outputId": "eb73e426-0d7e-4e08-ed4a-f2347a9bb5b7",
        "colab": {
          "base_uri": "https://localhost:8080/"
        }
      },
      "cell_type": "code",
      "source": [
        "# for循环\n",
        "x = 1\n",
        "for i in range(3): # 从 i=0 到 i=2\n",
        "    x += 1 # 等价于 x = x + 1\n",
        "    print (\"i={0}, x={1}\".format(i, x)) # 打印多个变量"
      ],
      "execution_count": 19,
      "outputs": [
        {
          "output_type": "stream",
          "name": "stdout",
          "text": [
            "i=0, x=2\n",
            "i=1, x=3\n",
            "i=2, x=4\n"
          ]
        }
      ]
    },
    {
      "cell_type": "code",
      "source": [
        "x = 1\n",
        "for i in range(3): # 从 i=0 到 i=2\n",
        "    x += 1 # 等价于 x = x + 1\n",
        "    print (f\"i={i}, x={x}\") # 打i印多个变量"
      ],
      "metadata": {
        "id": "fTOyqqIGUx4D",
        "outputId": "b64f1c08-6f3a-4cdf-dcf8-a73e1a1d4fd4",
        "colab": {
          "base_uri": "https://localhost:8080/"
        }
      },
      "execution_count": 20,
      "outputs": [
        {
          "output_type": "stream",
          "name": "stdout",
          "text": [
            "i=0, x=2\n",
            "i=1, x=3\n",
            "i=2, x=4\n"
          ]
        }
      ]
    },
    {
      "metadata": {
        "id": "6XyhCrFeoGj4",
        "outputId": "25b99da8-3659-43f5-9d63-47653f325aa6",
        "colab": {
          "base_uri": "https://localhost:8080/"
        }
      },
      "cell_type": "code",
      "source": [
        "# 循环遍历列表中的元素\n",
        "x = 1\n",
        "for i in [0, 1, 2]:\n",
        "    x += 1\n",
        "    print (\"i={0}, x={1}\".format(i, x))"
      ],
      "execution_count": 21,
      "outputs": [
        {
          "output_type": "stream",
          "name": "stdout",
          "text": [
            "i=0, x=2\n",
            "i=1, x=3\n",
            "i=2, x=4\n"
          ]
        }
      ]
    },
    {
      "metadata": {
        "id": "5Tf2x4okp3fH",
        "outputId": "7188bcd2-5469-4dbc-bd7b-cbdad80efc35",
        "colab": {
          "base_uri": "https://localhost:8080/"
        }
      },
      "cell_type": "code",
      "source": [
        "# while循环\n",
        "x = 3\n",
        "while x > 0:\n",
        "    x -= 1 # 等价于 x = x - 1\n",
        "    print (x)"
      ],
      "execution_count": 22,
      "outputs": [
        {
          "output_type": "stream",
          "name": "stdout",
          "text": [
            "2\n",
            "1\n",
            "0\n"
          ]
        }
      ]
    },
    {
      "metadata": {
        "id": "gJw-EDO9WBL_"
      },
      "cell_type": "markdown",
      "source": [
        "# 函数"
      ]
    },
    {
      "metadata": {
        "id": "hDIOUdWCqBwa"
      },
      "cell_type": "markdown",
      "source": [
        "函数（functions）是模块化可重用代码块的一种方法。"
      ]
    },
    {
      "metadata": {
        "id": "iin1ZXmMqA0y",
        "outputId": "e24598a1-edd4-479e-82f0-342a3e59a45b",
        "colab": {
          "base_uri": "https://localhost:8080/"
        }
      },
      "cell_type": "code",
      "source": [
        "# 创建函数\n",
        "def add_two(x):\n",
        "    x += 2\n",
        "    return x\n",
        "\n",
        "# 调用函数\n",
        "score = 0\n",
        "score = add_two(x=score)\n",
        "print (score)"
      ],
      "execution_count": 23,
      "outputs": [
        {
          "output_type": "stream",
          "name": "stdout",
          "text": [
            "2\n"
          ]
        }
      ]
    },
    {
      "metadata": {
        "id": "DC6x3DMrqlE3",
        "outputId": "671606e4-54a2-42f0-963c-df7dd5069b26",
        "colab": {
          "base_uri": "https://localhost:8080/"
        }
      },
      "cell_type": "code",
      "source": [
        "# 具有多输入的函数\n",
        "def join_name(first_name, last_name):\n",
        "    joined_name = first_name + \" \" + last_name#字符窜的拼接\n",
        "    return joined_name\n",
        "\n",
        "# 调用函数\n",
        "first_name = \"Goku\"\n",
        "last_name = \"Mohandas\"\n",
        "joined_name = join_name(first_name=first_name, last_name=last_name)\n",
        "print (joined_name)"
      ],
      "execution_count": 24,
      "outputs": [
        {
          "output_type": "stream",
          "name": "stdout",
          "text": [
            "Goku Mohandas\n"
          ]
        }
      ]
    },
    {
      "metadata": {
        "id": "lBLa1n54WEd2"
      },
      "cell_type": "markdown",
      "source": [
        "# 类"
      ]
    },
    {
      "metadata": {
        "id": "mGua8QnArAZh"
      },
      "cell_type": "markdown",
      "source": [
        "类（classes） 是面向对象的Python编程的基础部分。"
      ]
    },
    {
      "metadata": {
        "id": "DXmPwI1frAAd"
      },
      "cell_type": "code",
      "source": [
        "# 创建函数\n",
        "class Pets(object):\n",
        "\n",
        "    # 类初始化\n",
        "    def __init__(self, species, color, name):\n",
        "        self.species = species\n",
        "        self.color = color\n",
        "        self.name = name\n",
        "\n",
        "    # 用于打印（有了print就调用）\n",
        "    def __str__(self):\n",
        "        return \"{0} {1} named {2}.\".format(self.color, self.species, self.name)\n",
        "\n",
        "    # 实例函数\n",
        "    def change_name(self, new_name):\n",
        "        self.name = new_name"
      ],
      "execution_count": 25,
      "outputs": []
    },
    {
      "metadata": {
        "id": "ezQq_Fhhrqrv",
        "outputId": "53207fce-5ecd-4cde-a7fe-a7c53f7e6c4b",
        "colab": {
          "base_uri": "https://localhost:8080/"
        }
      },
      "cell_type": "code",
      "source": [
        "# 创建类的实例：对象\n",
        "my_dog = Pets(species=\"dog\", color=\"orange\", name=\"Guiness\",)\n",
        "print (my_dog)#调用_str_()魔方方法，遇到除法情况就直接对实例调用魔方方法\n",
        "print (my_dog.name)"
      ],
      "execution_count": 26,
      "outputs": [
        {
          "output_type": "stream",
          "name": "stdout",
          "text": [
            "orange dog named Guiness.\n",
            "Guiness\n"
          ]
        }
      ]
    },
    {
      "metadata": {
        "id": "qTinlRj1szc5",
        "outputId": "07f61e79-787a-4301-b50c-de11c1e6a3b5",
        "colab": {
          "base_uri": "https://localhost:8080/"
        }
      },
      "cell_type": "code",
      "source": [
        "# 调用类的函数\n",
        "my_dog.change_name(new_name=\"Charlie\")\n",
        "print (my_dog)\n",
        "print (my_dog.name)"
      ],
      "execution_count": 27,
      "outputs": [
        {
          "output_type": "stream",
          "name": "stdout",
          "text": [
            "orange dog named Charlie.\n",
            "Charlie\n"
          ]
        }
      ]
    },
    {
      "metadata": {
        "id": "kiWtd0aJtNtY"
      },
      "cell_type": "markdown",
      "source": [
        "# 其它资源"
      ]
    },
    {
      "cell_type": "markdown",
      "source": [
        "# 新段落"
      ],
      "metadata": {
        "id": "HWWF7Np8AqbI"
      }
    },
    {
      "metadata": {
        "id": "cfLF4ktmtSC3"
      },
      "cell_type": "markdown",
      "source": [
        "本文是对python的快速浏览，我们将在未来的课程中学到更多东西。如果您想在进入机器学习之前了解关于python的更多信息，请查看此免费课程: [Free Python Course](https://www.codecademy.com/learn/learn-python)"
      ]
    },
    {
      "metadata": {
        "id": "MDbjB8ju3E9L"
      },
      "cell_type": "code",
      "source": [],
      "execution_count": null,
      "outputs": []
    }
  ]
}