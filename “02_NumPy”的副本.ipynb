{
  "nbformat": 4,
  "nbformat_minor": 0,
  "metadata": {
    "colab": {
      "provenance": [],
      "toc_visible": true,
      "include_colab_link": true
    },
    "kernelspec": {
      "name": "python3",
      "display_name": "Python 3"
    }
  },
  "cells": [
    {
      "cell_type": "markdown",
      "metadata": {
        "id": "view-in-github",
        "colab_type": "text"
      },
      "source": [
        "<a href=\"https://colab.research.google.com/github/cqqqj/shen-du-xue-xi/blob/main/%E2%80%9C02_NumPy%E2%80%9D%E7%9A%84%E5%89%AF%E6%9C%AC.ipynb\" target=\"_parent\"><img src=\"https://colab.research.google.com/assets/colab-badge.svg\" alt=\"Open In Colab\"/></a>"
      ]
    },
    {
      "metadata": {
        "id": "bOChJSNXtC9g"
      },
      "cell_type": "markdown",
      "source": [
        "# NumPy"
      ]
    },
    {
      "metadata": {
        "id": "OLIxEDq6VhvZ"
      },
      "cell_type": "markdown",
      "source": [
        "<img src=\"https://raw.githubusercontent.com/LisonEvf/practicalAI-cn/master/images/logo.png\" width=150>\n",
        "\n",
        "在本课中，我们将学习使用NumPy包进行数值分析的基础知识。\n",
        "\n",
        "<img src=\"https://raw.githubusercontent.com/LisonEvf/practicalAI-cn/master/images/numpy.png\" width=300>\n",
        "\n",
        "\n"
      ]
    },
    {
      "metadata": {
        "id": "VoMq0eFRvugb"
      },
      "cell_type": "markdown",
      "source": [
        "# NumPy 基础知识"
      ]
    },
    {
      "metadata": {
        "id": "0-dXQiLlTIgz"
      },
      "cell_type": "code",
      "source": [
        "import numpy as np"
      ],
      "execution_count": 1,
      "outputs": []
    },
    {
      "metadata": {
        "id": "bhaOPJV7WA0m"
      },
      "cell_type": "code",
      "source": [
        "# 使得多次生成的随机数相同\n",
        "np.random.seed(seed=1234)"
      ],
      "execution_count": 2,
      "outputs": []
    },
    {
      "metadata": {
        "id": "23tSlin9aWZ8",
        "outputId": "139532c7-6ac8-4974-db2f-cba012136654",
        "colab": {
          "base_uri": "https://localhost:8080/"
        }
      },
      "cell_type": "code",
      "source": [
        "# 标量（scalars）\n",
        "x = np.array(6) # scalar\n",
        "print (\"x: \", x)\n",
        "print(\"x ndim: \", x.ndim)\n",
        "print(\"x shape:\", x.shape)\n",
        "print(\"x size: \", x.size)\n",
        "print (\"x dtype: \", x.dtype)"
      ],
      "execution_count": 3,
      "outputs": [
        {
          "output_type": "stream",
          "name": "stdout",
          "text": [
            "x:  6\n",
            "x ndim:  0\n",
            "x shape: ()\n",
            "x size:  1\n",
            "x dtype:  int64\n"
          ]
        }
      ]
    },
    {
      "metadata": {
        "id": "ugIZprdIabFF",
        "outputId": "66d94621-a7e6-4bdf-cac5-bcc58d70a9b6",
        "colab": {
          "base_uri": "https://localhost:8080/"
        }
      },
      "cell_type": "code",
      "source": [
        "# 一维数组（array）\n",
        "x = np.array([1.3 , 2.2 , 1.7])\n",
        "print (\"x: \", x)\n",
        "print(\"x ndim: \", x.ndim)\n",
        "print(\"x shape:\", x.shape)\n",
        "print(\"x size: \", x.size)\n",
        "print (\"x dtype: \", x.dtype) # notice the float datatype"
      ],
      "execution_count": 4,
      "outputs": [
        {
          "output_type": "stream",
          "name": "stdout",
          "text": [
            "x:  [1.3 2.2 1.7]\n",
            "x ndim:  1\n",
            "x shape: (3,)\n",
            "x size:  3\n",
            "x dtype:  float64\n"
          ]
        }
      ]
    },
    {
      "metadata": {
        "id": "SQI-T_4MbE9J",
        "outputId": "780f9213-47fd-40d5-e38a-cc34e2bbbeb4",
        "colab": {
          "base_uri": "https://localhost:8080/"
        }
      },
      "cell_type": "code",
      "source": [
        "# 三维数组（矩阵（matrix））\n",
        "x = np.array([[[1,2,3], [4,5,6], [7,8,9]]])\n",
        "print (\"x:\\n\", x)\n",
        "print(\"x ndim: \", x.ndim)\n",
        "print(\"x shape:\", x.shape)\n",
        "print(\"x size: \", x.size)\n",
        "print (\"x dtype: \", x.dtype)"
      ],
      "execution_count": 5,
      "outputs": [
        {
          "output_type": "stream",
          "name": "stdout",
          "text": [
            "x:\n",
            " [[[1 2 3]\n",
            "  [4 5 6]\n",
            "  [7 8 9]]]\n",
            "x ndim:  3\n",
            "x shape: (1, 3, 3)\n",
            "x size:  9\n",
            "x dtype:  int64\n"
          ]
        }
      ]
    },
    {
      "metadata": {
        "id": "z2Qf8EKZln9j",
        "outputId": "3aa0d085-e317-4b64-c45f-389082667c2d",
        "colab": {
          "base_uri": "https://localhost:8080/"
        }
      },
      "cell_type": "code",
      "source": [
        "# 函数\n",
        "print (\"np.zeros((2,2)):\\n\", np.zeros((2,2)))\n",
        "print (\"np.ones((2,2)):\\n\", np.ones((2,2)))\n",
        "print (\"np.eye((2)):\\n\", np.eye((2)))\n",
        "print (\"np.random.random((2,2)):\\n\", np.random.random((2,2)))"
      ],
      "execution_count": 6,
      "outputs": [
        {
          "output_type": "stream",
          "name": "stdout",
          "text": [
            "np.zeros((2,2)):\n",
            " [[0. 0.]\n",
            " [0. 0.]]\n",
            "np.ones((2,2)):\n",
            " [[1. 1.]\n",
            " [1. 1.]]\n",
            "np.eye((2)):\n",
            " [[1. 0.]\n",
            " [0. 1.]]\n",
            "np.random.random((2,2)):\n",
            " [[0.19151945 0.62210877]\n",
            " [0.43772774 0.78535858]]\n"
          ]
        }
      ]
    },
    {
      "metadata": {
        "id": "qVD-MCiCdcV9"
      },
      "cell_type": "markdown",
      "source": [
        "# 索引"
      ]
    },
    {
      "metadata": {
        "id": "vyt36kFOcVDX",
        "outputId": "32685147-3524-4e29-9765-9dc8490f7c8f",
        "colab": {
          "base_uri": "https://localhost:8080/"
        }
      },
      "cell_type": "code",
      "source": [
        "# 索引（indexing）\n",
        "x = np.array([1, 2, 3])\n",
        "print (\"x[0]: \", x[0])\n",
        "x[0] = 0\n",
        "print (\"x: \", x)"
      ],
      "execution_count": 7,
      "outputs": [
        {
          "output_type": "stream",
          "name": "stdout",
          "text": [
            "x[0]:  1\n",
            "x:  [0 2 3]\n"
          ]
        }
      ]
    },
    {
      "metadata": {
        "id": "qxHww0didni6",
        "outputId": "9e7fa1c9-6c53-4760-a706-f819b860eb70",
        "colab": {
          "base_uri": "https://localhost:8080/"
        }
      },
      "cell_type": "code",
      "source": [
        "# 切片（slicing）\n",
        "x = np.array([[1,2,3,4],\n",
        "        [5,6,7,8],\n",
        "        [9,10,11,12]])\n",
        "print (x)\n",
        "print (\"x column 1: \", x[:, 1])#有一个索引，降低维度从2维变1维\n",
        "print (\"x row 0: \", x[0, :])\n",
        "a=x[:3, 1:3]#a是二维的正常 a[0,1]索引\n",
        "print (\"x rows 0,1,2 & cols 1,2: \\n\",a)#都切片，保持维度 wei1\n",
        "a[0,0]=0#这是a的行索引\n",
        "print(x)"
      ],
      "execution_count": 11,
      "outputs": [
        {
          "output_type": "stream",
          "name": "stdout",
          "text": [
            "[[ 1  2  3  4]\n",
            " [ 5  6  7  8]\n",
            " [ 9 10 11 12]]\n",
            "x column 1:  [ 2  6 10]\n",
            "x row 0:  [1 2 3 4]\n",
            "x rows 0,1,2 & cols 1,2: \n",
            " [[ 2  3]\n",
            " [ 6  7]\n",
            " [10 11]]\n",
            "[[ 1  0  3  4]\n",
            " [ 5  6  7  8]\n",
            " [ 9 10 11 12]]\n"
          ]
        }
      ]
    },
    {
      "cell_type": "code",
      "source": [
        "x = np.array([[1,2,3,4],\n",
        "        [5,6,7,8],\n",
        "        [9,10,11,12]])"
      ],
      "metadata": {
        "id": "r-DzmRulOfiW"
      },
      "execution_count": 12,
      "outputs": []
    },
    {
      "metadata": {
        "id": "A52pzB9idyDE",
        "outputId": "5a10454d-4cf7-4c9f-f2ee-4c181ad60fb7",
        "colab": {
          "base_uri": "https://localhost:8080/"
        }
      },
      "cell_type": "code",
      "source": [
        "# 整数数组索引\n",
        "print (x)#len(x)返回列表中的元素个数\n",
        "rows_to_get = np.arange(len(x))#返回外层列表的长度【二维数组列表里有列表，内部列表的个数才是len\n",
        "print (\"rows_to_get: \", rows_to_get)\n",
        "cols_to_get = np.array([0, 2, 1])\n",
        "print (\"cols_to_get: \", cols_to_get)\n",
        "print (\"indexed values: \", x[rows_to_get, cols_to_get])\n",
        "#花式索引x[[0,1,2],[0,2,1]]  索引降低维度 得到的是1维数组【】"
      ],
      "execution_count": 13,
      "outputs": [
        {
          "output_type": "stream",
          "name": "stdout",
          "text": [
            "[[ 1  2  3  4]\n",
            " [ 5  6  7  8]\n",
            " [ 9 10 11 12]]\n",
            "rows_to_get:  [0 1 2]\n",
            "cols_to_get:  [0 2 1]\n",
            "indexed values:  [ 1  7 10]\n"
          ]
        }
      ]
    },
    {
      "metadata": {
        "id": "_R7O5WsVfDij",
        "outputId": "4d326bf8-898b-400f-bd98-77f41f4a9a18",
        "colab": {
          "base_uri": "https://localhost:8080/",
          "height": 186
        }
      },
      "cell_type": "code",
      "source": [
        "# 布尔数组索引\n",
        "x = np.array([[1,2], [3, 4], [5, 6]])\n",
        "print (\"x:\\n\", x)\n",
        "print (\"x > 2:\\n\", x > 2)#返回布尔值\n",
        "print (\"x[x > 2]:\\n\", x[x > 2])#索引依旧降低维度"
      ],
      "execution_count": null,
      "outputs": [
        {
          "output_type": "stream",
          "text": [
            "x:\n",
            " [[1 2]\n",
            " [3 4]\n",
            " [5 6]]\n",
            "x > 2:\n",
            " [[False False]\n",
            " [ True  True]\n",
            " [ True  True]]\n",
            "x[x > 2]:\n",
            " [3 4 5 6]\n"
          ],
          "name": "stdout"
        }
      ]
    },
    {
      "metadata": {
        "id": "77RCjrQ8gvYW"
      },
      "cell_type": "markdown",
      "source": [
        "# 数组基础知识"
      ]
    },
    {
      "metadata": {
        "id": "1UJVcNCLfFrV",
        "outputId": "19cc0e8f-195b-4472-f2ca-708bca6ad9db",
        "colab": {
          "base_uri": "https://localhost:8080/"
        }
      },
      "cell_type": "code",
      "source": [
        "# 数学基础\n",
        "x = np.array([[1,2], [3,4]], dtype=np.float64)\n",
        "y = np.array([[1,2], [3,4]], dtype=np.float64)\n",
        "print (\"x + y:\\n\", np.add(x, y)) # or x + y\n",
        "print (\"x - y:\\n\", np.subtract(x, y)) # or x - y\n",
        "print (\"x * y:\\n\", np.multiply(x, y)) # or x * y\n",
        "#区分于x@y(np.dot(x,y))【矩阵乘法】 x*y是逐个相乘（将两个矩阵中对应位置的元素相乘，结果矩阵的形状与原矩阵相同）"
      ],
      "execution_count": 15,
      "outputs": [
        {
          "output_type": "stream",
          "name": "stdout",
          "text": [
            "x + y:\n",
            " [[2. 4.]\n",
            " [6. 8.]]\n",
            "x - y:\n",
            " [[0. 0.]\n",
            " [0. 0.]]\n",
            "x * y:\n",
            " [[ 1.  4.]\n",
            " [ 9. 16.]]\n"
          ]
        }
      ]
    },
    {
      "metadata": {
        "id": "1BV0nSIliMC6"
      },
      "cell_type": "markdown",
      "source": [
        "<img src=\"https://raw.githubusercontent.com/LisonEvf/practicalAI-cn/master/images/matrix.png\" width=400>\n"
      ]
    },
    {
      "metadata": {
        "id": "XyZVF6gXhTWd",
        "outputId": "4bcf0464-79e1-449e-a1a4-9494f895dff3",
        "colab": {
          "base_uri": "https://localhost:8080/"
        }
      },
      "cell_type": "code",
      "source": [
        "# 点积（向量于矩阵乘法）\n",
        "a = np.array([[1,2,3], [4,5,6]], dtype=np.float64) # 我们可以指定dtype\n",
        "b = np.array([[7,8], [9,10], [11, 12]], dtype=np.float64)\n",
        "print (a.dot(b))"
      ],
      "execution_count": 14,
      "outputs": [
        {
          "output_type": "stream",
          "name": "stdout",
          "text": [
            "[[ 58.  64.]\n",
            " [139. 154.]]\n"
          ]
        }
      ]
    },
    {
      "metadata": {
        "id": "7pB-H-7phsku",
        "outputId": "db2b7731-d581-4bfb-e6c4-e7c1f516d04e",
        "colab": {
          "base_uri": "https://localhost:8080/"
        }
      },
      "cell_type": "code",
      "source": [
        "# 跨维度求和（跨维度就降低维度）\n",
        "x = np.array([[1,2],[3,4]])\n",
        "print (x)\n",
        "print (\"sum all: \", np.sum(x)) # 将所有元素相加\n",
        "print (\"sum by col: \", np.sum(x, axis=0)) # 逐列将元素相加\n",
        "print (\"sum by row: \", np.sum(x, axis=1)) # 逐行将元素相加"
      ],
      "execution_count": 16,
      "outputs": [
        {
          "output_type": "stream",
          "name": "stdout",
          "text": [
            "[[1 2]\n",
            " [3 4]]\n",
            "sum all:  10\n",
            "sum by col:  [4 6]\n",
            "sum by row:  [3 7]\n"
          ]
        }
      ]
    },
    {
      "metadata": {
        "id": "pLDG49LrijgA",
        "outputId": "467a5cb2-0617-4020-8f96-16be8e31a3b4",
        "colab": {
          "base_uri": "https://localhost:8080/"
        }
      },
      "cell_type": "code",
      "source": [
        "# 转置\n",
        "print (\"x:\\n\", x)\n",
        "print (\"x.T:\\n\", x.T)"
      ],
      "execution_count": 17,
      "outputs": [
        {
          "output_type": "stream",
          "name": "stdout",
          "text": [
            "x:\n",
            " [[1 2]\n",
            " [3 4]]\n",
            "x.T:\n",
            " [[1 3]\n",
            " [2 4]]\n"
          ]
        }
      ]
    },
    {
      "metadata": {
        "id": "KdPKVKtwkWnw"
      },
      "cell_type": "markdown",
      "source": [
        "# 数组高级知识"
      ]
    },
    {
      "metadata": {
        "id": "U_j2fCcjkEyo",
        "outputId": "030ddd5b-56f7-4090-b3c9-d8a94bfcc8cf",
        "colab": {
          "base_uri": "https://localhost:8080/",
          "height": 174
        }
      },
      "cell_type": "code",
      "source": [
        "# np.tile：重复维度\n",
        "x = np.array([[1,2], [3,4]])#len(x)值为2\n",
        "y = np.array([5, 6])\n",
        "addent = np.tile(y, (len(x), 1))\n",
        "print (\"y: \\n\", y)\n",
        "print (\"addent: \\n\", addent)\n",
        "z = x + addent\n",
        "print (\"z:\\n\", z)\n",
        "\"\"\"\n",
        "len(x) 是数组 x 的行数，这里是 2，表示在垂直方向（行）上重复 2 次。\n",
        "1 表示在水平方向（列）上不重复\n",
        "所以y变化后\n",
        "[[5, 6],\n",
        " [5, 6]]\n",
        "\"\"\""
      ],
      "execution_count": 19,
      "outputs": [
        {
          "output_type": "stream",
          "name": "stdout",
          "text": [
            "addent: \n",
            " [5 6]\n",
            "addent: \n",
            " [[5 6]\n",
            " [5 6]]\n",
            "z:\n",
            " [[ 6  8]\n",
            " [ 8 10]]\n"
          ]
        },
        {
          "output_type": "execute_result",
          "data": {
            "text/plain": [
              "'\\nlen(x) 是数组 x 的行数，这里是 2，表示在垂直方向（行）上重复 2 次。\\n1 表示在水平方向（列）上不重复\\n所以y变化后\\n[[5, 6],\\n [5, 6]]\\n'"
            ],
            "application/vnd.google.colaboratory.intrinsic+json": {
              "type": "string"
            }
          },
          "metadata": {},
          "execution_count": 19
        }
      ]
    },
    {
      "metadata": {
        "id": "1NsoFVo0mfQ4",
        "outputId": "e68b73e6-a62e-4360-fab2-33ad3d543106",
        "colab": {
          "base_uri": "https://localhost:8080/"
        }
      },
      "cell_type": "code",
      "source": [
        "# 广播（broadcasting）#维度至少为1且两个元组至少再一个维度上相同\n",
        "x = np.array([[1,2], [3,4]])\n",
        "y = np.array([5, 6])\n",
        "z = x + y\n",
        "print (\"z:\\n\", z)"
      ],
      "execution_count": 20,
      "outputs": [
        {
          "output_type": "stream",
          "name": "stdout",
          "text": [
            "z:\n",
            " [[ 6  8]\n",
            " [ 8 10]]\n"
          ]
        }
      ]
    },
    {
      "metadata": {
        "id": "RdEHrnMTnO6k",
        "outputId": "285c9023-1b80-4bd1-ebb7-0e174ca5489c",
        "colab": {
          "base_uri": "https://localhost:8080/"
        }
      },
      "cell_type": "code",
      "source": [
        "# 改变维度\n",
        "x = np.array([[1,2], [3,4], [5,6]])\n",
        "print (x)\n",
        "print (\"x.shape: \", x.shape)\n",
        "y = np.reshape(x, (2, 3))\n",
        "print (\"y.shape: \", y.shape)\n",
        "print (\"y: \\n\", y)"
      ],
      "execution_count": 21,
      "outputs": [
        {
          "output_type": "stream",
          "name": "stdout",
          "text": [
            "[[1 2]\n",
            " [3 4]\n",
            " [5 6]]\n",
            "x.shape:  (3, 2)\n",
            "y.shape:  (2, 3)\n",
            "y: \n",
            " [[1 2 3]\n",
            " [4 5 6]]\n"
          ]
        }
      ]
    },
    {
      "cell_type": "markdown",
      "source": [],
      "metadata": {
        "id": "JqktHuWETqAm"
      }
    },
    {
      "cell_type": "markdown",
      "source": [
        "numpy.squeeze(a, axis=None)\n",
        "1 删除指定大小的维度\n",
        "\n",
        "```\n",
        "# 此内容为代码格式\n",
        "当x.shape为(3, 1, 4)时\n",
        "使用 np.squeeze(x, 1) 删除第1轴（即中间的维度）：\\\n",
        "\n",
        "```\n",
        "2. 移除所有单维度\n",
        "如果不指定 axis 参数，np.squeeze 会移除所有大小为1的维度：\n",
        "\n",
        "```\n",
        "x = np.array([[[1, 2, 3, 4]]])  # 形状为 (1, 1, 4)\n",
        "\n",
        "y = np.squeeze(x)  # 默认移除所有单维度\n",
        "\n",
        "print(\"压缩后的数组 y 的形状:\", y.shape)  # 输出: (4,)\n",
        "print(y)  # 输出: [1 2 3 4]\n",
        "\n",
        "\n",
        "```\n",
        "3. 指定多个轴进行压缩（axis=0，前提该轴大小为1）\n",
        "可以同时指定多个轴进行压缩，前提是这些轴的大小都为1：\n",
        "\n",
        "\n",
        "```\n",
        "x = np.array([[[1], [2], [3]]])  # 形状为 (1, 3, 1)\n",
        "\n",
        "y = np.squeeze(x, axis=(0, 2))  # 移除第0轴和第2轴\n",
        "\n",
        "print(\"压缩后的数组 y 的形状:\", y.shape)  # 输出: (3,)\n",
        "print(y)  # 输出: [1 2 3]\n",
        "\n",
        "\n",
        "\n",
        "\n",
        "\n",
        "\n",
        "\n"
      ],
      "metadata": {
        "id": "5znshwM6UIuj"
      }
    },
    {
      "metadata": {
        "id": "tE1BmoJuns70",
        "outputId": "3a64ceac-ee81-4d67-fcce-b2231420ec42",
        "colab": {
          "base_uri": "https://localhost:8080/"
        }
      },
      "cell_type": "code",
      "source": [
        "# 删除维度（重点）\n",
        "x = np.array([[[1,2,1]],[[2,2,3]]])\n",
        "print (\"x.shape: \", x.shape)\n",
        "y = np.squeeze(x, 1) # 删除维度1（用于从数组 x 中移除指定轴（维度）上大小为1的维度）\n",
        "print (\"y.shape: \", y.shape)\n",
        "print (\"y: \\n\", y)\n",
        "#因为行维度的大小为1，所以删除行维度"
      ],
      "execution_count": 22,
      "outputs": [
        {
          "output_type": "stream",
          "name": "stdout",
          "text": [
            "x.shape:  (2, 1, 3)\n",
            "y.shape:  (2, 3)\n",
            "y: \n",
            " [[1 2 1]\n",
            " [2 2 3]]\n"
          ]
        }
      ]
    },
    {
      "cell_type": "markdown",
      "source": [],
      "metadata": {
        "id": "TV-7GzmPW0Vb"
      }
    },
    {
      "cell_type": "markdown",
      "source": [
        "拓展维度\n",
        "numpy.expand_dims(a, axis)\n",
        "\n",
        "​a: 要扩展维度的数组。\n",
        "​axis: 新维度插入的位置。可以是整数，表示在哪个轴之前插入新维度。\n",
        "返回值\n",
        "\n",
        "返回一个新的数组，该数组在指定的轴上增加了一个大小为1的维度。原始数组不会被修改。\n",
        "y = np.expand_dims(x, 1)\n",
        "\n",
        "就是在第一轴上增加大小为1的维度 np.shape(x)从（2，3）变为（2，1，3）"
      ],
      "metadata": {
        "id": "k8ca__AdWaJ7"
      }
    },
    {
      "metadata": {
        "id": "LNYJRMF4qvXN",
        "outputId": "230bf71a-072c-4f7b-b59b-a22303a23db3",
        "colab": {
          "base_uri": "https://localhost:8080/",
          "height": 118
        }
      },
      "cell_type": "code",
      "source": [
        "# 添加维度\n",
        "x = np.array([[1,2,1],[2,2,3]])\n",
        "print (\"x.shape: \", x.shape)\n",
        "y = np.expand_dims(x, 1) # 扩展维度1\n",
        "print (\"y.shape: \", y.shape)\n",
        "print (\"y: \\n\", y)"
      ],
      "execution_count": null,
      "outputs": [
        {
          "output_type": "stream",
          "text": [
            "x.shape:  (2, 3)\n",
            "y.shape:  (2, 1, 3)\n",
            "y: \n",
            " [[[1 2 1]]\n",
            "\n",
            " [[2 2 3]]]\n"
          ],
          "name": "stdout"
        }
      ]
    },
    {
      "metadata": {
        "id": "XthM4y7SotAH"
      },
      "cell_type": "markdown",
      "source": [
        "# 其它资源"
      ]
    },
    {
      "metadata": {
        "id": "3KmESFstrbFS"
      },
      "cell_type": "markdown",
      "source": [
        "你不必熟悉本文中任何东西，因为我们将在后面的课程中仔细研究NumPy。如果你对Numpy感到好奇，可以自行查看 [NumPy reference manual](https://docs.scipy.org/doc/numpy-1.15.1/reference/)."
      ]
    },
    {
      "metadata": {
        "id": "NpI4jhxjwbol"
      },
      "cell_type": "code",
      "source": [],
      "execution_count": null,
      "outputs": []
    }
  ]
}